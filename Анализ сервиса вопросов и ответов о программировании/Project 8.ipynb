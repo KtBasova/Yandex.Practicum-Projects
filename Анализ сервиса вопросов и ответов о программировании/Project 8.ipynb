{
 "cells": [
  {
   "cell_type": "markdown",
   "id": "4707055f",
   "metadata": {},
   "source": [
    "# Анализ сервиса вопросов и ответов о программировании"
   ]
  },
  {
   "cell_type": "markdown",
   "id": "303da4ed",
   "metadata": {},
   "source": [
    "### Описание проекта"
   ]
  },
  {
   "cell_type": "markdown",
   "id": "0aaccae7",
   "metadata": {},
   "source": [
    "База данных StackOverflow — сервиса вопросов и ответов о программировании. StackOverflow похож на социальную сеть — пользователи сервиса задают вопросы, отвечают на посты, оставляют комментарии и ставят оценки другим ответам. Данные о постах за 2008 год."
   ]
  },
  {
   "cell_type": "markdown",
   "id": "98fade8a",
   "metadata": {},
   "source": [
    "**Задача:** проанализировать ключевые метрики сервиса опросов и ответов о программировании."
   ]
  },
  {
   "cell_type": "markdown",
   "id": "7ad3b7b3",
   "metadata": {},
   "source": [
    "#### Описание данных"
   ]
  },
  {
   "cell_type": "markdown",
   "id": "799d3c0a",
   "metadata": {},
   "source": [
    "- `stackoverflow.badges` — хранит информацию о значках, которые присуждаются за разные достижения;\n",
    "- `stackoverflow.post_types` — хранит информацию о типе постов;\n",
    "- `stackoverflow.posts` — содержит информацию о постах;\n",
    "- `stackoverflow.users` — содержит информацию о пользователях;\n",
    "- `stackoverflow.vote_types` — содержит информацию о типах голосов;\n",
    "- `stackoverflow.votes` — содержит информацию о голосах за посты. "
   ]
  },
  {
   "cell_type": "markdown",
   "id": "a5fc9bc0",
   "metadata": {},
   "source": [
    "### Первая часть"
   ]
  },
  {
   "cell_type": "markdown",
   "id": "617b0a2c",
   "metadata": {},
   "source": [
    "1. Найдите количество вопросов, которые набрали больше 300 очков или как минимум 100 раз были добавлены в «Закладки»."
   ]
  },
  {
   "cell_type": "code",
   "execution_count": null,
   "id": "abe589d1",
   "metadata": {},
   "outputs": [],
   "source": [
    "SELECT \n",
    "    COUNT(id)\n",
    "FROM stackoverflow.posts\n",
    "WHERE post_type_id = 1 AND score > 300 OR favorites_count >= 100;"
   ]
  },
  {
   "cell_type": "markdown",
   "id": "5eb8744f",
   "metadata": {},
   "source": [
    "2. Сколько в среднем в день задавали вопросов с 1 по 18 ноября 2008 включительно? Результат округлите до целого числа."
   ]
  },
  {
   "cell_type": "code",
   "execution_count": null,
   "id": "74e04607",
   "metadata": {},
   "outputs": [],
   "source": [
    "SELECT ROUND(AVG(count),0)\n",
    "FROM\n",
    "(SELECT DATE_TRUNC('day', creation_date)AS date, count(id) AS count\n",
    "FROM stackoverflow.posts\n",
    "WHERE post_type_id = 1 AND (DATE_TRUNC('day', creation_date) BETWEEN '2008-11-01' AND '2008-11-18')\n",
    "GROUP BY 1) dt;"
   ]
  },
  {
   "cell_type": "markdown",
   "id": "233264a2",
   "metadata": {},
   "source": [
    "3. \n",
    "Сколько пользователей получили значки сразу в день регистрации? Выведите количество уникальных пользователей."
   ]
  },
  {
   "cell_type": "code",
   "execution_count": null,
   "id": "e9106f32",
   "metadata": {},
   "outputs": [],
   "source": [
    "SELECT COUNT(DISTINCT u.id)\n",
    "FROM stackoverflow.users AS u\n",
    "LEFT JOIN stackoverflow.badges AS b ON u.id=b.user_id\n",
    "WHERE CAST(u.creation_date AS date) = CAST(b.creation_date AS date);"
   ]
  },
  {
   "cell_type": "markdown",
   "id": "bf6825e2",
   "metadata": {},
   "source": [
    "4. Сколько уникальных постов пользователя с именем Joel Coehoorn получили хотя бы один голос?"
   ]
  },
  {
   "cell_type": "code",
   "execution_count": null,
   "id": "c1478d29",
   "metadata": {},
   "outputs": [],
   "source": [
    "SELECT COUNT(DISTINCT p.id)\n",
    "FROM stackoverflow.users AS u\n",
    "JOIN stackoverflow.posts AS p ON p.user_id=u.id\n",
    "JOIN stackoverflow.votes AS v ON v.post_id=p.id\n",
    "WHERE display_name ='Joel Coehoorn'"
   ]
  },
  {
   "cell_type": "markdown",
   "id": "61409c27",
   "metadata": {},
   "source": [
    "5. Выгрузите все поля таблицы vote_types. Добавьте к таблице поле rank, в которое войдут номера записей в обратном порядке. Таблица должна быть отсортирована по полю id."
   ]
  },
  {
   "cell_type": "code",
   "execution_count": null,
   "id": "785b293f",
   "metadata": {},
   "outputs": [],
   "source": [
    "SELECT * , ROW_NUMBER() OVER(ORDER BY id DESC) AS rank\n",
    "FROM stackoverflow.vote_types\n",
    "ORDER BY id;"
   ]
  },
  {
   "cell_type": "markdown",
   "id": "2993db26",
   "metadata": {},
   "source": [
    "6. Отберите 10 пользователей, которые поставили больше всего голосов типа Close. Отобразите таблицу из двух полей: идентификатором пользователя и количеством голосов. Отсортируйте данные сначала по убыванию количества голосов, потом по убыванию значения идентификатора пользователя."
   ]
  },
  {
   "cell_type": "code",
   "execution_count": null,
   "id": "ac8009a4",
   "metadata": {},
   "outputs": [],
   "source": [
    "SELECT u.id, count(v.id)\n",
    "FROM stackoverflow.vote_types AS vp\n",
    "JOIN stackoverflow.votes AS v ON v.vote_type_id=vp.id\n",
    "JOIN stackoverflow.users AS u ON v.user_id=u.id\n",
    "WHERE name = 'Close'\n",
    "GROUP BY u.id \n",
    "ORDER BY 2 DESC, 1 DESC\n",
    "LIMIT 10;"
   ]
  },
  {
   "cell_type": "markdown",
   "id": "3e1a2f37-66ef-4e45-ae2d-5d4ff4e66b88",
   "metadata": {},
   "source": [
    "7. Отберите 10 пользователей по количеству значков, полученных в период с 15 ноября по 15 декабря 2008 года включительно.\n",
    "\r\n",
    "Отобразите несколько полей\n",
    "- идентификатор пользователя;\n",
    "- число значков;\n",
    "- место в рейтинге — чем больше значков, тем выше рейтинг.\n",
    "\n",
    "Пользователям, которые набрали одинаковое количество значков, присвойте одно и то же место в рейтинге.\n",
    "\r\n",
    "Отсортируйте записи по количеству значков по убыванию, а затем по возрастанию значения идентификатора пользователя.  :"
   ]
  },
  {
   "cell_type": "code",
   "execution_count": null,
   "id": "db8c7253",
   "metadata": {},
   "outputs": [],
   "source": [
    "SELECT user_id AS user, count(id) AS count, DENSE_RANK() OVER(ORDER BY count(id) DESC)\n",
    "FROM stackoverflow.badges\n",
    "WHERE creation_date::date BETWEEN '2008-11-15' AND '2008-12-15'\n",
    "GROUP BY user_id \n",
    "LIMIT 10;"
   ]
  },
  {
   "cell_type": "markdown",
   "id": "1472c9fd",
   "metadata": {},
   "source": [
    "8. Сколько в среднем очков получает пост каждого пользователя?\n",
    "\n",
    "Сформируйте таблицу из следующих полей:\n",
    "- заголовок поста;\n",
    "- идентификатор пользователя;\n",
    "- число очков поста;\n",
    "- среднее число очков пользователя за пост, округлённое до целого числа.\n",
    "\n",
    "Не учитывайте посты без заголовка, а также те, что набрали ноль очков.  "
   ]
  },
  {
   "cell_type": "code",
   "execution_count": null,
   "id": "030ee290",
   "metadata": {},
   "outputs": [],
   "source": [
    "SELECT title, user_id, score, ROUND(AVG(score) OVER (PARTITION BY user_id),0)\n",
    "FROM stackoverflow.posts\n",
    "WHERE title !='' AND score !=0;"
   ]
  },
  {
   "cell_type": "markdown",
   "id": "f7287d94",
   "metadata": {},
   "source": [
    "9. Отобразите заголовки постов, которые были написаны пользователями, получившими более 1000 значков. Посты без заголовков не должны попасть в список."
   ]
  },
  {
   "cell_type": "code",
   "execution_count": null,
   "id": "449033ff",
   "metadata": {},
   "outputs": [],
   "source": [
    "SELECT title\n",
    "FROM\n",
    "    (SELECT user_id, COUNT(b.id) as count_1\n",
    "    FROM stackoverflow.badges AS b\n",
    "    JOIN stackoverflow.users AS u ON u.id=b.user_id\n",
    "    GROUP BY user_id\n",
    "    HAVING COUNT(b.id) > 1000) t_1\n",
    "JOIN stackoverflow.posts AS p ON t_1.user_id=p.user_id\n",
    "WHERE title !='';"
   ]
  },
  {
   "cell_type": "markdown",
   "id": "eec71728",
   "metadata": {},
   "source": [
    "10. Напишите запрос, который выгрузит данные о пользователях из Канады (англ. Canada). Разделите пользователей на три группы в зависимости от количества просмотров их профилей:\n",
    "\n",
    "- пользователям с числом просмотров больше либо равным 350 присвойте группу 1;\n",
    "- пользователям с числом просмотров меньше 350, но больше либо равно 100 — группу 2;\n",
    "- пользователям с числом просмотров меньше 100 — группу 3.\n",
    "\n",
    "Отобразите в итоговой таблице идентификатор пользователя, количество просмотров профиля и группу. Пользователи с количеством просмотров меньше либо равным нулю не должны войти в итоговую таблицу."
   ]
  },
  {
   "cell_type": "code",
   "execution_count": null,
   "id": "cb2969dd",
   "metadata": {},
   "outputs": [],
   "source": [
    "SELECT id, views,\n",
    "CASE\n",
    "WHEN views >= 350 THEN 1\n",
    "WHEN 100 <= views AND views < 350 THEN 2\n",
    "WHEN views < 100 THEN 3\n",
    "END\n",
    "FROM stackoverflow.users\n",
    "WHERE views > 0 AND location LIKE '%Canada%';"
   ]
  },
  {
   "cell_type": "markdown",
   "id": "40a6cede",
   "metadata": {},
   "source": [
    "11. Дополните предыдущий запрос. Отобразите лидеров каждой группы — пользователей, которые набрали максимальное число просмотров в своей группе. Выведите поля с идентификатором пользователя, группой и количеством просмотров. Отсортируйте таблицу по убыванию просмотров, а затем по возрастанию значения идентификатора."
   ]
  },
  {
   "cell_type": "code",
   "execution_count": null,
   "id": "b99aa5cd",
   "metadata": {},
   "outputs": [],
   "source": [
    "WITH u AS\n",
    "(SELECT id, views,\n",
    "CASE\n",
    "WHEN views >= 350 THEN 1\n",
    "WHEN 100 <= views AND views < 350 THEN 2\n",
    "WHEN views < 100 THEN 3\n",
    "END AS groups\n",
    "FROM stackoverflow.users\n",
    "WHERE views > 0 AND location LIKE '%Canada%'),\n",
    "\n",
    "m AS \n",
    "(SELECT id, views, groups, MAX(views) OVER(PARTITION BY groups) AS maximum\n",
    "FROM u)\n",
    "\n",
    "\n",
    "SELECT id, groups, views \n",
    "FROM m\n",
    "WHERE views=maximum\n",
    "ORDER BY maximum DESC, id;"
   ]
  },
  {
   "cell_type": "markdown",
   "id": "c96d8b7d",
   "metadata": {},
   "source": [
    "12. Посчитайте ежедневный прирост новых пользователей в ноябре 2008 года. Сформируйте таблицу с полями:\n",
    "- номер дня;\n",
    "- число пользователей, зарегистрированных в этот день;\n",
    "- сумму пользователей с накоплением."
   ]
  },
  {
   "cell_type": "code",
   "execution_count": null,
   "id": "f5b0909f",
   "metadata": {},
   "outputs": [],
   "source": [
    "SELECT EXTRACT(DAY FROM creation_date) AS day, \n",
    "    count(id),\n",
    "    SUM(COUNT(id)) OVER (ORDER BY EXTRACT(DAY FROM creation_date)) AS cumulative_count\n",
    "FROM stackoverflow.users\n",
    "WHERE creation_date BETWEEN '2008-11-01' AND '2008-12-01'\n",
    "--WHERE DATE_TRUNC('DAY', creation_date)::date BETWEEN '2008-11-01' AND '2008-11-30'\n",
    "GROUP BY day\n",
    "ORDER BY day;"
   ]
  },
  {
   "cell_type": "markdown",
   "id": "5cad4678",
   "metadata": {},
   "source": [
    "13. \n",
    "Для каждого пользователя, который написал хотя бы один пост, найдите интервал между регистрацией и временем создания первого поста. Отобразите\n",
    "- идентификатор пользователя;\n",
    "- разницу во времени между регистрацией и первым постом.:"
   ]
  },
  {
   "cell_type": "code",
   "execution_count": null,
   "id": "50c539df",
   "metadata": {},
   "outputs": [],
   "source": [
    "SELECT DISTINCT u.id,\n",
    "    MIN(p.creation_date) OVER(PARTITION BY u.id) - u.creation_date\n",
    "FROM stackoverflow.users AS u\n",
    "JOIN stackoverflow.posts AS p ON u.id=p.user_id;"
   ]
  },
  {
   "cell_type": "markdown",
   "id": "74bc3b43",
   "metadata": {},
   "source": [
    "### Вторая часть"
   ]
  },
  {
   "cell_type": "markdown",
   "id": "9a2f83c8",
   "metadata": {},
   "source": [
    "1. Выведите общую сумму просмотров у постов, опубликованных в каждый месяц 2008 года. Если данных за какой-либо месяц в базе нет, такой месяц можно пропустить. Результат отсортируйте по убыванию общего количества просмотров."
   ]
  },
  {
   "cell_type": "code",
   "execution_count": null,
   "id": "4971e851",
   "metadata": {},
   "outputs": [],
   "source": [
    "SELECT \n",
    "    DATE_TRUNC('MONTH', creation_date)::date dt,\n",
    "    SUM(views_count) AS sum_v\n",
    "FROM stackoverflow.posts\n",
    "WHERE DATE_TRUNC('MONTH', creation_date)::date BETWEEN '2008-01-01' AND '2008-12-31'\n",
    "GROUP BY dt\n",
    "ORDER BY sum_v DESC;"
   ]
  },
  {
   "cell_type": "markdown",
   "id": "e6a6577a",
   "metadata": {},
   "source": [
    "2. Выведите имена самых активных пользователей, которые в первый месяц после регистрации (включая день регистрации) дали больше 100 ответов. Вопросы, которые задавали пользователи, не учитывайте. Для каждого имени пользователя выведите количество уникальных значений user_id. Отсортируйте результат по полю с именами в лексикографическом порядке."
   ]
  },
  {
   "cell_type": "code",
   "execution_count": null,
   "id": "7e23c3c4",
   "metadata": {},
   "outputs": [],
   "source": [
    "SELECT u.display_name,\n",
    "    COUNT(DISTINCT user_id) AS count_users\n",
    "FROM stackoverflow.users AS u\n",
    "JOIN stackoverflow.posts AS p ON p.user_id=u.id\n",
    "WHERE p.post_type_id = 2\n",
    "AND\n",
    "(p.creation_date::date BETWEEN u.creation_date::date AND u.creation_date::date + INTERVAL '1 month')\n",
    "GROUP BY u.display_name\n",
    "HAVING COUNT(p.post_type_id) > 100\n",
    "ORDER BY u.display_name;"
   ]
  },
  {
   "cell_type": "markdown",
   "id": "2dd475df",
   "metadata": {},
   "source": [
    "3. Выведите количество постов за 2008 год по месяцам. Отберите посты от пользователей, которые зарегистрировались в сентябре 2008 года и сделали хотя бы один пост в декабре того же года. Отсортируйте таблицу по значению месяца по убыванию."
   ]
  },
  {
   "cell_type": "code",
   "execution_count": null,
   "id": "5a00d3f0",
   "metadata": {},
   "outputs": [],
   "source": [
    "SELECT DATE_TRUNC('MONTH', creation_date)::date AS month,\n",
    "    count(id)\n",
    "FROM stackoverflow.posts\n",
    "WHERE user_id IN\n",
    "    (SELECT DISTINCT u.id\n",
    "    FROM stackoverflow.users AS u\n",
    "    JOIN stackoverflow.posts AS p ON p.user_id=u.id\n",
    "    WHERE DATE_TRUNC('MONTH', u.creation_date)::date BETWEEN '2008-09-01' AND '2008-09-30'\n",
    "    AND\n",
    "    DATE_TRUNC('MONTH', p.creation_date)::date BETWEEN '2008-12-01' AND '2008-12-31') \n",
    "GROUP BY month\n",
    "ORDER BY month DESC;"
   ]
  },
  {
   "cell_type": "markdown",
   "id": "5052286b",
   "metadata": {},
   "source": [
    "4. Используя данные о постах, выведите несколько полей:\n",
    "- идентификатор пользователя, который написал пост;\n",
    "- дата создания поста;\n",
    "- количество просмотров у текущего поста;\n",
    "- сумма просмотров постов автора с накоплением.\n",
    "\n",
    "Данные в таблице должны быть отсортированы по возрастанию идентификаторов пользователей, а данные об одном и том же пользователе — по возрастанию даты создания поста."
   ]
  },
  {
   "cell_type": "code",
   "execution_count": null,
   "id": "21e14ccd",
   "metadata": {},
   "outputs": [],
   "source": [
    "SELECT user_id,\n",
    "    creation_date,\n",
    "    views_count,\n",
    "    SUM(views_count) OVER(PARTITION BY user_id ORDER BY user_id, creation_date)    \n",
    "FROM stackoverflow.posts\n",
    "ORDER BY user_id, creation_date;"
   ]
  },
  {
   "cell_type": "markdown",
   "id": "e50dcc79",
   "metadata": {},
   "source": [
    "5. Сколько в среднем дней в период с 1 по 7 декабря 2008 года включительно пользователи взаимодействовали с платформой? Для каждого пользователя отберите дни, в которые он или она опубликовали хотя бы один пост. Нужно получить одно целое число — не забудьте округлить результат."
   ]
  },
  {
   "cell_type": "code",
   "execution_count": null,
   "id": "d71ac664",
   "metadata": {},
   "outputs": [],
   "source": [
    "WITH i AS\n",
    "    (SELECT\n",
    "        user_id,\n",
    "        COUNT(DISTINCT creation_date::date) AS count_dt\n",
    "    FROM stackoverflow.posts\n",
    "    WHERE creation_date::date BETWEEN '2008-12-01' AND '2008-12-07'\n",
    "    GROUP BY user_id)\n",
    "\n",
    "SELECT ROUND(AVG(count_dt),0)\n",
    "FROM i;"
   ]
  },
  {
   "cell_type": "markdown",
   "id": "450fe022",
   "metadata": {},
   "source": [
    "6. На сколько процентов менялось количество постов ежемесячно с 1 сентября по 31 декабря 2008 года? "
   ]
  },
  {
   "cell_type": "code",
   "execution_count": null,
   "id": "fe964584",
   "metadata": {},
   "outputs": [],
   "source": [
    "WITH t_2 AS \n",
    "(SELECT \n",
    "    month_number,\n",
    "    count,\n",
    "    LAG(count) OVER (ORDER BY month_number) AS previous_count\n",
    "FROM\n",
    "(\n",
    "    SELECT \n",
    "        EXTRACT(MONTH FROM creation_date) AS month_number,\n",
    "        COUNT(creation_date) AS count\n",
    "    FROM stackoverflow.posts\n",
    "    WHERE creation_date::date BETWEEN '2008-09-01' AND '2008-12-31'\n",
    "    GROUP BY month_number\n",
    ") t_1\n",
    "ORDER BY month_number)\n",
    "\n",
    "SELECT \n",
    "    month_number,\n",
    "    count,\n",
    "    ROUND((count*100::numeric / previous_count - 100),2) AS percentage_change\n",
    "FROM t_2  "
   ]
  },
  {
   "cell_type": "markdown",
   "id": "638d7e80",
   "metadata": {},
   "source": [
    "7. Найдите пользователя, который опубликовал больше всего постов за всё время с момента регистрации. Выведите данные его активности за октябрь 2008 года в таком виде:\n",
    "- номер недели;\n",
    "- дата и время последнего поста, опубликованного на этой неделе."
   ]
  },
  {
   "cell_type": "code",
   "execution_count": null,
   "id": "3aca7a66",
   "metadata": {},
   "outputs": [],
   "source": [
    "SELECT \n",
    "    EXTRACT(WEEK FROM p.creation_date) AS week_number,\n",
    "    MAX(p.creation_date) AS last_post_date\n",
    "FROM stackoverflow.posts AS p\n",
    "JOIN stackoverflow.users AS u ON p.user_id = u.id\n",
    "WHERE p.creation_date::date BETWEEN '2008-10-01' AND '2008-10-31'\n",
    "    AND p.user_id = (\n",
    "        SELECT user_id\n",
    "        FROM (\n",
    "            SELECT p2.user_id,\n",
    "                COUNT(p2.creation_date) AS count\n",
    "            FROM stackoverflow.posts AS p2\n",
    "            JOIN stackoverflow.users AS u2 ON p2.user_id = u2.id\n",
    "            GROUP BY p2.user_id\n",
    "            ORDER BY count DESC\n",
    "            LIMIT 1\n",
    "        ) AS subquery\n",
    "    )\n",
    "GROUP BY EXTRACT(WEEK FROM p.creation_date);"
   ]
  }
 ],
 "metadata": {
  "kernelspec": {
   "display_name": "Python 3 (ipykernel)",
   "language": "python",
   "name": "python3"
  },
  "language_info": {
   "codemirror_mode": {
    "name": "ipython",
    "version": 3
   },
   "file_extension": ".py",
   "mimetype": "text/x-python",
   "name": "python",
   "nbconvert_exporter": "python",
   "pygments_lexer": "ipython3",
   "version": "3.11.7"
  }
 },
 "nbformat": 4,
 "nbformat_minor": 5
}
