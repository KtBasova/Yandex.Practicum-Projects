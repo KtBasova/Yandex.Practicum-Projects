{
 "cells": [
  {
   "cell_type": "markdown",
   "id": "3591085f",
   "metadata": {},
   "source": [
    "# Анализ данных о венчурных фондах и инвестициях в компании-стартапы"
   ]
  },
  {
   "cell_type": "markdown",
   "id": "4de7c563",
   "metadata": {},
   "source": [
    "### Описание проекта"
   ]
  },
  {
   "cell_type": "markdown",
   "id": "804a483d",
   "metadata": {},
   "source": [
    "Работа с базой данных, которая хранит информацию о венчурных фондах и инвестициях в компании-стартапы. Эта база данных основана на датасете Startup Investments, опубликованном на популярной платформе для соревнований по исследованию данных Kaggle. "
   ]
  },
  {
   "cell_type": "markdown",
   "id": "0562cd31",
   "metadata": {},
   "source": [
    "**Задача**: проанализировать данные о фондах и инвестициях и написать запросы к базе с помощью SQL."
   ]
  },
  {
   "cell_type": "markdown",
   "id": "b5d48075",
   "metadata": {},
   "source": [
    "#### Описание данных"
   ]
  },
  {
   "cell_type": "markdown",
   "id": "80bef7c1",
   "metadata": {},
   "source": [
    "- `acquisition` — cодержит информацию о покупках одних компаний другими.\n",
    "- `company` — cодержит информацию о компаниях-стартапах.\n",
    "- `education` — хранит информацию об уровне образования сотрудников компаний.\n",
    "- `fund` — хранит информацию о венчурных фондах. \n",
    "- `funding_round` — содержит информацию о раундах инвестиций. \n",
    "- `investment` — содержит информацию об инвестициях венчурных фондов в компании-стартапы.\n",
    "- `people` — содержит информацию о сотрудниках компаний-стартапов."
   ]
  },
  {
   "cell_type": "markdown",
   "id": "701569c3",
   "metadata": {},
   "source": [
    "### Запросы"
   ]
  },
  {
   "cell_type": "markdown",
   "id": "c73a4c0b",
   "metadata": {},
   "source": [
    "1. Все записи из таблицы `company по компаниям`, которые закрылись."
   ]
  },
  {
   "cell_type": "code",
   "execution_count": null,
   "id": "ec8404be",
   "metadata": {},
   "outputs": [],
   "source": [
    "SELECT *\n",
    "FROM company\n",
    "WHERE status = 'closed';"
   ]
  },
  {
   "cell_type": "markdown",
   "id": "afd1fef0",
   "metadata": {},
   "source": [
    "2. Количество привлечённых средств для новостных компаний США из таблицы company. Сортировка по убыванию значений в поле funding_total."
   ]
  },
  {
   "cell_type": "code",
   "execution_count": null,
   "id": "1f815cdd",
   "metadata": {},
   "outputs": [],
   "source": [
    "SELECT funding_total\n",
    "FROM company\n",
    "WHERE country_code = 'USA'\n",
    "    AND category_code = 'news'\n",
    "ORDER BY funding_total DESC;"
   ]
  },
  {
   "cell_type": "markdown",
   "id": "4188a927",
   "metadata": {},
   "source": [
    "3. Общая сумму сделок по покупке одних компаний другими в долларах. Сделки, которые осуществлялись только за наличные с 2011 по 2013 год включительно."
   ]
  },
  {
   "cell_type": "code",
   "execution_count": null,
   "id": "e7002f43",
   "metadata": {},
   "outputs": [],
   "source": [
    "SELECT SUM(price_amount)\n",
    "FROM acquisition\n",
    "WHERE term_code = 'cash' \n",
    "    AND CAST(acquired_at AS date) BETWEEN '2011-01-01' AND '2013-12-31';"
   ]
  },
  {
   "cell_type": "markdown",
   "id": "fc2caf50",
   "metadata": {},
   "source": [
    "4. Имя, фамилия и названия аккаунтов людей в поле network_username, у которых названия аккаунтов начинаются на 'Silver'."
   ]
  },
  {
   "cell_type": "code",
   "execution_count": null,
   "id": "9be9d020",
   "metadata": {},
   "outputs": [],
   "source": [
    "SELECT\n",
    "    first_name,\n",
    "    last_name,\n",
    "    twitter_username\n",
    "FROM people\n",
    "WHERE twitter_username LIKE 'Silver%';"
   ]
  },
  {
   "cell_type": "markdown",
   "id": "fa658934",
   "metadata": {},
   "source": [
    "5. Информацию о людях, у которых названия аккаунтов в поле network_username содержат подстроку 'money', а фамилия начинается на 'K'."
   ]
  },
  {
   "cell_type": "code",
   "execution_count": null,
   "id": "71174310",
   "metadata": {},
   "outputs": [],
   "source": [
    "SELECT * \n",
    "FROM people\n",
    "WHERE twitter_username LIKE '%money%'\n",
    "    AND last_name LIKE 'K%';"
   ]
  },
  {
   "cell_type": "markdown",
   "id": "503dabaa",
   "metadata": {},
   "source": [
    "6.  Общая сумма привлечённых инвестиций, для каждой страны, которую получили компании, зарегистрированные в этой стране. Сортировка данных по убыванию суммы."
   ]
  },
  {
   "cell_type": "code",
   "execution_count": null,
   "id": "557357fd",
   "metadata": {},
   "outputs": [],
   "source": [
    "SELECT country_code, SUM(funding_total) \n",
    "FROM company\n",
    "GROUP BY country_code\n",
    "ORDER BY SUM(funding_total) DESC;"
   ]
  },
  {
   "cell_type": "markdown",
   "id": "5f08cb88",
   "metadata": {},
   "source": [
    "7. Составление таблицы, в которую войдёт дата проведения раунда, а также минимальное и максимальное значения суммы инвестиций, привлечённых в эту дату. В  итоговой таблице только те записи, в которых минимальное значение суммы инвестиций не равно нулю и не равно максимальному значению."
   ]
  },
  {
   "cell_type": "code",
   "execution_count": null,
   "id": "fe72cd5d",
   "metadata": {},
   "outputs": [],
   "source": [
    "SELECT \n",
    "    CAST(funded_at AS date),\n",
    "    MAX(raised_amount),\n",
    "    MIN(raised_amount)\n",
    "FROM funding_round \n",
    "GROUP BY funded_at\n",
    "HAVING MIN(raised_amount) !=0\n",
    "    AND MIN(raised_amount) != MAX(raised_amount);"
   ]
  },
  {
   "cell_type": "markdown",
   "id": "bdf11418",
   "metadata": {},
   "source": [
    "8. Создание поля с категориями:\n",
    "- Для фондов, которые инвестируют в 100 и более компаний - категория high_activity.\n",
    "- Для фондов, которые инвестируют в 20 и более компаний до 100 - категория middle_activity.\n",
    "- Если количество инвестируемых компаний фонда не достигает 20 - категория low_activity.\n",
    "\n",
    "Отображены все поля таблицы fund и новое поле с категориями.\n"
   ]
  },
  {
   "cell_type": "code",
   "execution_count": null,
   "id": "b7c883ad",
   "metadata": {},
   "outputs": [],
   "source": [
    "SELECT *,\n",
    "CASE\n",
    "    WHEN invested_companies >= 100 THEN 'high_activity'\n",
    "    WHEN invested_companies >= 20 AND invested_companies < 100 THEN 'middle_activity'\n",
    "    WHEN invested_companies <20 THEN 'low_activity'\n",
    "END \n",
    "FROM fund;"
   ]
  },
  {
   "cell_type": "markdown",
   "id": "7e7fa622",
   "metadata": {},
   "source": [
    "9. Рассчёт округлённого до ближайшего целого числа среднего количества инвестиционных раундов, в которых фонд принимал участие. Вывед на экран категорий и среднего числа инвестиционных раундов. Отсортировка таблицы по возрастанию среднего."
   ]
  },
  {
   "cell_type": "code",
   "execution_count": null,
   "id": "bb695b69",
   "metadata": {},
   "outputs": [],
   "source": [
    "SELECT \n",
    "       CASE\n",
    "           WHEN invested_companies>=100 THEN 'high_activity'\n",
    "           WHEN invested_companies>=20 THEN 'middle_activity'\n",
    "           ELSE 'low_activity'\n",
    "       END AS activity,\n",
    "       ROUND(AVG(investment_rounds))\n",
    "FROM fund\n",
    "GROUP BY activity\n",
    "ORDER BY ROUND(AVG(investment_rounds));"
   ]
  },
  {
   "cell_type": "markdown",
   "id": "4f8e0ef4",
   "metadata": {},
   "source": [
    "10. Анализ стран в который находятся фонды, которые чаще всего инвестируют в стартапы. \r\n",
    "Для каждой странырассчитаное минимальное, максимальное и среднее число компаний, в которые инвестировали фонды этой страны, основанные с 2010 по 2012 год включительно. Исклюеные страны с фондами, у которых минимальное число компаний, получивших инвестиции, равно нулю. \r\n",
    "Выгженоте десять самых активных стран-инвесторовсортировкате таблыцу по среднему количеству компаний от большего к меньшемуДобавленате сортироаку по коду страны в лексикографическом порядке."
   ]
  },
  {
   "cell_type": "code",
   "execution_count": null,
   "id": "afdb2065",
   "metadata": {},
   "outputs": [],
   "source": [
    "SELECT country_code,\n",
    "    MIN(invested_companies), \n",
    "    MAX(invested_companies), \n",
    "    AVG(invested_companies)\n",
    "FROM fund\n",
    "WHERE founded_at BETWEEN '2010-01-01' AND '2012-12-31'\n",
    "GROUP BY country_code\n",
    "HAVING MIN(invested_companies) != 0 \n",
    "ORDER BY AVG(invested_companies) DESC, country_code \n",
    "LIMIT 10;"
   ]
  },
  {
   "cell_type": "markdown",
   "id": "43fca8da",
   "metadata": {},
   "source": [
    "11. Имя и фамилию всех сотрудников стартапов. Добавлено поле с названием учебного заведения, которое окончил сотрудник."
   ]
  },
  {
   "cell_type": "code",
   "execution_count": null,
   "id": "0115341c",
   "metadata": {},
   "outputs": [],
   "source": [
    "SELECT \n",
    "   first_name,\n",
    "   last_name,\n",
    "   instituition\n",
    "FROM people AS p\n",
    "LEFT JOIN education AS e ON p.id=e.person_id;"
   ]
  },
  {
   "cell_type": "markdown",
   "id": "d59aa9c3",
   "metadata": {},
   "source": [
    "12. Количество учебных заведений, которые окончили её сотрудники. Выведено название компании и число уникальных названий учебных заведений. Составлено топ-5 компаний по количеству университетов."
   ]
  },
  {
   "cell_type": "code",
   "execution_count": null,
   "id": "82125e5f",
   "metadata": {},
   "outputs": [],
   "source": [
    "SELECT\n",
    "    c.name,\n",
    "    COUNT(DISTINCT instituition)\n",
    "FROM company AS c\n",
    "JOIN people AS p ON c.id=p.company_id\n",
    "JOIN education AS e ON p.id=e.person_id\n",
    "GROUP BY c.name\n",
    "ORDER BY COUNT(DISTINCT instituition) DESC\n",
    "LIMIT 5;"
   ]
  },
  {
   "cell_type": "markdown",
   "id": "c97fffea",
   "metadata": {},
   "source": [
    "13. Список с уникальными названиями закрытых компаний, для которых первый раунд финансирования оказался последним."
   ]
  },
  {
   "cell_type": "code",
   "execution_count": null,
   "id": "3ae1eeba",
   "metadata": {},
   "outputs": [],
   "source": [
    "SELECT\n",
    "    DISTINCT(c.name)\n",
    "FROM company AS c\n",
    "LEFT JOIN funding_round AS fr ON c.id=fr.company_id\n",
    "WHERE status = 'closed' \n",
    "    AND is_first_round = 1\n",
    "    AND is_last_round = 1"
   ]
  },
  {
   "cell_type": "markdown",
   "id": "4840ed00",
   "metadata": {},
   "source": [
    "14. Список уникальных номеров сотрудников, которые работают в компаниях, отобранных в предыдущем задании."
   ]
  },
  {
   "cell_type": "code",
   "execution_count": null,
   "id": "df99ef2e",
   "metadata": {},
   "outputs": [],
   "source": [
    "SELECT \n",
    "    DISTINCT(p.id)\n",
    "FROM company AS c\n",
    "JOIN funding_round AS fr ON c.id=fr.company_id\n",
    "JOIN people AS p ON c.id=p.company_id\n",
    "WHERE status = 'closed' \n",
    "    AND is_first_round = 1\n",
    "    AND is_last_round = 1;"
   ]
  },
  {
   "cell_type": "markdown",
   "id": "f58e8f41",
   "metadata": {},
   "source": [
    "15. Составление таблицы, куда войдут уникальные пары с номерами сотрудников из предыдущей задачи и учебным заведением, которое окончил сотрудник."
   ]
  },
  {
   "cell_type": "code",
   "execution_count": null,
   "id": "675786ad",
   "metadata": {},
   "outputs": [],
   "source": [
    "SELECT \n",
    "    DISTINCT (p.id),\n",
    "    e.instituition\n",
    "FROM company AS c\n",
    "JOIN funding_round AS fr ON c.id=fr.company_id\n",
    "JOIN people AS p ON c.id=p.company_id\n",
    "JOIN education AS e ON p.id=e.person_id\n",
    "WHERE status = 'closed' \n",
    "    AND is_first_round = 1\n",
    "    AND is_last_round = 1;"
   ]
  },
  {
   "cell_type": "markdown",
   "id": "748c5d00",
   "metadata": {},
   "source": [
    "16. Количество учебных заведений для каждого сотрудника из предыдущего задания. При подсчёте учтено, что некоторые сотрудники могли окончить одно и то же заведение дважды."
   ]
  },
  {
   "cell_type": "code",
   "execution_count": null,
   "id": "9ce8b4a9",
   "metadata": {},
   "outputs": [],
   "source": [
    "SELECT \n",
    "    p.id,\n",
    "    COUNT(e.instituition) AS total_instituition\n",
    "FROM people AS p    \n",
    "JOIN education AS e ON p.id=e.person_id    \n",
    "WHERE company_id IN\n",
    "(SELECT c.id AS company_id\n",
    "FROM company AS c\n",
    "JOIN funding_round AS fr ON c.id=fr.company_id\n",
    "WHERE status = 'closed' \n",
    "    AND is_first_round = 1\n",
    "    AND is_last_round = 1)\n",
    "    GROUP BY p.id ;"
   ]
  },
  {
   "cell_type": "markdown",
   "id": "02856a4c",
   "metadata": {},
   "source": [
    "17. Дополнен предыдущий запрос и выведено среднее число учебных заведений (всех, не только уникальных), которые окончили сотрудники разных компаний. Выведена только одна запись."
   ]
  },
  {
   "cell_type": "code",
   "execution_count": null,
   "id": "4e416847",
   "metadata": {},
   "outputs": [],
   "source": [
    "SELECT AVG(total_instituition)\n",
    "FROM\n",
    "(SELECT \n",
    "    p.id,\n",
    "    COUNT(e.instituition) AS total_instituition\n",
    "FROM people AS p    \n",
    "JOIN education AS e ON p.id=e.person_id    \n",
    "WHERE company_id IN\n",
    "(SELECT c.id AS company_id\n",
    "FROM company AS c\n",
    "JOIN funding_round AS fr ON c.id=fr.company_id\n",
    "WHERE status = 'closed' \n",
    "    AND is_first_round = 1\n",
    "    AND is_last_round = 1)\n",
    "    GROUP BY p.id) AS a;"
   ]
  },
  {
   "cell_type": "markdown",
   "id": "d2496f1e",
   "metadata": {},
   "source": [
    "18. Среднее число учебных заведений (всех, не только уникальных), которые окончили сотрудники Socialnet."
   ]
  },
  {
   "cell_type": "code",
   "execution_count": null,
   "id": "08e00a35",
   "metadata": {},
   "outputs": [],
   "source": [
    "SELECT AVG(total_instituition)\n",
    "FROM\n",
    "\n",
    "(SELECT \n",
    "    p.id,\n",
    "    COUNT(e.instituition) AS total_instituition\n",
    "FROM people AS p    \n",
    "JOIN education AS e ON p.id=e.person_id    \n",
    "WHERE company_id IN\n",
    " \n",
    "(SELECT c.id AS company_id\n",
    "FROM company AS c\n",
    "JOIN funding_round AS fr ON c.id=fr.company_id\n",
    "WHERE c.name LIKE 'Socialnet')\n",
    " \n",
    "GROUP BY p.id) AS a;"
   ]
  },
  {
   "cell_type": "markdown",
   "id": "16e384a9",
   "metadata": {},
   "source": [
    "19. Составление таблицы из полей:\n",
    "- `name_of_fund` — название фонда;\n",
    "- `name_of_company` — название компании;\n",
    "- `amount` — сумма инвестиций, которую привлекла компания в раунде.\n",
    "В таблицу вошли данные о компаниях, в истории которых было больше шести важных этапов, а раунды финансирования проходили с 2012 по 2013 год включительно."
   ]
  },
  {
   "cell_type": "code",
   "execution_count": null,
   "id": "325767c9",
   "metadata": {},
   "outputs": [],
   "source": [
    "SELECT\n",
    "    f.name AS name_of_fund, \n",
    "    c.name AS name_of_company,\n",
    "    fr.raised_amount AS amount\n",
    "FROM investment AS i\n",
    "JOIN company AS c ON i.company_id=c.id\n",
    "JOIN funding_round AS fr ON i.funding_round_id=fr.id\n",
    "JOIN fund AS f ON i.fund_id=f.id\n",
    "WHERE c.milestones > 6\n",
    "    AND EXTRACT(YEAR FROM CAST (fr.funded_at AS TIMESTAMP)) BETWEEN 2012 AND 2013; "
   ]
  },
  {
   "cell_type": "markdown",
   "id": "72071f50",
   "metadata": {},
   "source": [
    "20. Выгрузка таблицы со следующими полями:\n",
    "- название компании-покупателя;\n",
    "- сумма сделки;\n",
    "- название компании, которую купили;\n",
    "- сумма инвестиций, вложенных в купленную компанию;\n",
    "- доля, которая отображает, во сколько раз сумма покупки превысила сумму вложенных в компанию инвестиций, округлённая до ближайшего целого числа.\n",
    "\n",
    "Не учитываются те сделки, в которых сумма покупки равна нулю. Сортировка таблицы по сумме сделки от большей к меньшей, а затем по названию купленной компании в лексикографическом порядке. Вывелены первые десять строк  записи."
   ]
  },
  {
   "cell_type": "code",
   "execution_count": null,
   "id": "aba5c8b7",
   "metadata": {},
   "outputs": [],
   "source": [
    "SELECT\n",
    "    cb.name AS buyer,\n",
    "    price_amount,\n",
    "    cs.name AS seller,\n",
    "    cs.funding_total,\n",
    "    ROUND(price_amount / cs.funding_total)\n",
    "FROM acquisition AS a\n",
    "JOIN company AS cb ON cb.id=a.acquiring_company_id\n",
    "JOIN company AS cs ON cs.id=a.acquired_company_id\n",
    "WHERE price_amount !=0\n",
    "    AND cs.funding_total !=0\n",
    "ORDER BY price_amount DESC, seller\n",
    "LIMIT 10;"
   ]
  },
  {
   "cell_type": "markdown",
   "id": "7e3162c2",
   "metadata": {},
   "source": [
    "21. Выгрузка таблицы, в которую войдут названия компаний из категории social, получившие финансирование с 2010 по 2013 год включительно. Проверено, что сумма инвестиций не равна нулю. Выведен также номер месяца, в котором проходил раунд финансирования."
   ]
  },
  {
   "cell_type": "code",
   "execution_count": null,
   "id": "cd8e5696",
   "metadata": {},
   "outputs": [],
   "source": [
    "SELECT\n",
    "    c.name,\n",
    "    EXTRACT (MONTH FROM CAST(funded_at AS timestamp))\n",
    "\n",
    "FROM company AS c\n",
    "JOIN funding_round AS fr ON c.id=fr.company_id\n",
    "WHERE c.category_code = 'social'\n",
    "    AND EXTRACT (YEAR FROM CAST(fr.funded_at AS DATE)) BETWEEN 2010 AND 2013\n",
    "    AND fr.raised_amount != 0;"
   ]
  },
  {
   "cell_type": "markdown",
   "id": "ff45281d",
   "metadata": {},
   "source": [
    "22. Отобраны данные по месяцам с 2010 по 2013 год, когда проходили инвестиционные раунды. Сгруппированы данные по номеру месяца и получена таблица, в которой следующие поля:\n",
    "- номер месяца, в котором проходили раунды;\n",
    "- количество уникальных названий фондов из США, которые инвестировали в этом месяце;\n",
    "- количество компаний, купленных за этот месяц;\n",
    "- общая сумма сделок по покупкам в этом месяце.яце."
   ]
  },
  {
   "cell_type": "code",
   "execution_count": null,
   "id": "c40afe79",
   "metadata": {},
   "outputs": [],
   "source": [
    "WITH\n",
    "fu AS\n",
    "(SELECT\n",
    "    EXTRACT (MONTH FROM CAST(fr.funded_at AS DATE)) AS f_month,\n",
    "    COUNT(DISTINCT(f.name)) AS f_id\n",
    " FROM fund AS f\n",
    " LEFT JOIN investment AS i ON f.id=i.fund_id\n",
    " LEFT JOIN funding_round AS fr ON i.funding_round_id=fr.id\n",
    "WHERE EXTRACT (YEAR FROM CAST(fr.funded_at AS DATE)) BETWEEN 2010 AND 2013\n",
    "    AND f.country_code = 'USA'\n",
    "GROUP BY f_month),    \n",
    "\n",
    "co AS\n",
    "(SELECT\n",
    "   EXTRACT (MONTH FROM CAST(acquired_at AS DATE)) AS f_month,\n",
    "    COUNT(acquired_company_id) AS count_c,\n",
    "    SUM(price_amount) AS total_sum\n",
    "FROM acquisition \n",
    "WHERE EXTRACT (YEAR FROM CAST(acquired_at AS DATE)) BETWEEN 2010 AND 2013\n",
    "GROUP BY f_month) \n",
    "\n",
    "SELECT\n",
    "    f.f_month,\n",
    "    f.f_id,\n",
    "    c.count_c,\n",
    "    c.total_sum\n",
    "FROM fu AS f \n",
    "LEFT JOIN co AS c ON f.f_month=c.f_month"
   ]
  },
  {
   "cell_type": "markdown",
   "id": "0de3ff1c",
   "metadata": {},
   "source": [
    "23. Составлена сводная таблица и выведена средняя сумма инвестиций для стран, в которых есть стартапы, зарегистрированные в 2011, 2012 и 2013 годах. Данные за каждый год в отдельном поле. Сортировка таблицы по среднему значению инвестиций за 2011 год от большего к меньшему."
   ]
  },
  {
   "cell_type": "code",
   "execution_count": null,
   "id": "5d266e09",
   "metadata": {},
   "outputs": [],
   "source": [
    "WITH\n",
    "\n",
    "inv_2011 AS\n",
    "(SELECT country_code,\n",
    "    AVG(funding_total) AS sum_2011\n",
    " FROM company\n",
    " WHERE EXTRACT(YEAR FROM CAST(founded_at AS DATE)) = 2011\n",
    " GROUP BY country_code),\n",
    " \n",
    "inv_2012 AS\n",
    "(SELECT country_code,\n",
    "    AVG(funding_total) AS sum_2012\n",
    " FROM company\n",
    " WHERE EXTRACT(YEAR FROM CAST(founded_at AS DATE)) = 2012\n",
    " GROUP BY country_code),\n",
    "      \n",
    "inv_2013 AS\n",
    "(SELECT country_code,\n",
    "    AVG(funding_total) AS sum_2013\n",
    " FROM company\n",
    " WHERE EXTRACT(YEAR FROM CAST(founded_at AS DATE)) = 2013\n",
    " GROUP BY country_code)\n",
    "\n",
    "\n",
    "SELECT inv_2011.country_code,\n",
    "           inv_2011.sum_2011,\n",
    "           inv_2012.sum_2012,\n",
    "           inv_2013.sum_2013\n",
    "FROM inv_2011\n",
    "INNER JOIN inv_2012 ON inv_2011.country_code=inv_2012.country_code\n",
    "INNER JOIN inv_2013 ON inv_2011.country_code=inv_2013.country_code\n",
    "ORDER BY sum_2011 DESC;"
   ]
  }
 ],
 "metadata": {
  "kernelspec": {
   "display_name": "Python 3 (ipykernel)",
   "language": "python",
   "name": "python3"
  },
  "language_info": {
   "codemirror_mode": {
    "name": "ipython",
    "version": 3
   },
   "file_extension": ".py",
   "mimetype": "text/x-python",
   "name": "python",
   "nbconvert_exporter": "python",
   "pygments_lexer": "ipython3",
   "version": "3.11.7"
  }
 },
 "nbformat": 4,
 "nbformat_minor": 5
}
